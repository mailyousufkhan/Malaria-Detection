{
 "cells": [
  {
   "cell_type": "markdown",
   "metadata": {},
   "source": [
    "## Creating CNN Using Scratch And Transfer Learning"
   ]
  },
  {
   "cell_type": "markdown",
   "metadata": {},
   "source": [
    "Please download the dataset from the below url"
   ]
  },
  {
   "cell_type": "code",
   "execution_count": 1,
   "metadata": {},
   "outputs": [],
   "source": [
    "# import the libraries as shown below\n",
    "\n",
    "from tensorflow.keras.layers import Input, Lambda, Dense, Flatten,Conv2D\n",
    "from tensorflow.keras.models import Model\n",
    "from tensorflow.keras.applications.vgg19 import VGG19\n",
    "from tensorflow.keras.applications.resnet50 import preprocess_input\n",
    "from tensorflow.keras.preprocessing import image\n",
    "from tensorflow.keras.preprocessing.image import ImageDataGenerator,load_img\n",
    "from tensorflow.keras.models import Sequential\n",
    "import numpy as np\n",
    "from glob import glob\n",
    "import matplotlib.pyplot as plt"
   ]
  },
  {
   "cell_type": "code",
   "execution_count": 2,
   "metadata": {},
   "outputs": [],
   "source": [
    "# re-size all the images to this\n",
    "IMAGE_SIZE = [224, 224]\n",
    "\n",
    "train_path = 'cell_images/Train'\n",
    "valid_path = 'cell_images/Test'\n"
   ]
  },
  {
   "cell_type": "code",
   "execution_count": 5,
   "metadata": {},
   "outputs": [
    {
     "name": "stdout",
     "output_type": "stream",
     "text": [
      "Downloading data from https://storage.googleapis.com/tensorflow/keras-applications/vgg19/vgg19_weights_tf_dim_ordering_tf_kernels_notop.h5\n",
      "80142336/80134624 [==============================] - 75s 1us/step\n"
     ]
    }
   ],
   "source": [
    "# Import the Vgg 16 library as shown below and add preprocessing layer to the front of VGG\n",
    "# Here we will be using imagenet weights\n",
    "\n",
    "mobilnet = VGG19(input_shape=IMAGE_SIZE + [3], weights='imagenet', include_top=False)\n",
    "\n",
    "\n"
   ]
  },
  {
   "cell_type": "code",
   "execution_count": 6,
   "metadata": {},
   "outputs": [],
   "source": [
    "# don't train existing weights\n",
    "for layer in mobilnet.layers:\n",
    "    layer.trainable = False"
   ]
  },
  {
   "cell_type": "code",
   "execution_count": 7,
   "metadata": {},
   "outputs": [],
   "source": [
    "  # useful for getting number of output classes\n",
    "folders = glob('C:/Anaconda/data/Dataset1/Train/*')"
   ]
  },
  {
   "cell_type": "code",
   "execution_count": 8,
   "metadata": {},
   "outputs": [
    {
     "data": {
      "text/plain": [
       "['C:/Anaconda/data/Dataset1/Train\\\\Parasite',\n",
       " 'C:/Anaconda/data/Dataset1/Train\\\\Uninfected']"
      ]
     },
     "execution_count": 8,
     "metadata": {},
     "output_type": "execute_result"
    }
   ],
   "source": [
    "folders"
   ]
  },
  {
   "cell_type": "code",
   "execution_count": 9,
   "metadata": {},
   "outputs": [],
   "source": [
    "# our layers - you can add more if you want\n",
    "x = Flatten()(mobilnet.output)"
   ]
  },
  {
   "cell_type": "code",
   "execution_count": 10,
   "metadata": {},
   "outputs": [],
   "source": [
    "prediction = Dense(len(folders), activation='softmax')(x)\n",
    "\n",
    "# create a model object\n",
    "model = Model(inputs=mobilnet.input, outputs=prediction)"
   ]
  },
  {
   "cell_type": "code",
   "execution_count": 11,
   "metadata": {},
   "outputs": [
    {
     "name": "stdout",
     "output_type": "stream",
     "text": [
      "Model: \"functional_1\"\n",
      "_________________________________________________________________\n",
      "Layer (type)                 Output Shape              Param #   \n",
      "=================================================================\n",
      "input_3 (InputLayer)         [(None, 224, 224, 3)]     0         \n",
      "_________________________________________________________________\n",
      "block1_conv1 (Conv2D)        (None, 224, 224, 64)      1792      \n",
      "_________________________________________________________________\n",
      "block1_conv2 (Conv2D)        (None, 224, 224, 64)      36928     \n",
      "_________________________________________________________________\n",
      "block1_pool (MaxPooling2D)   (None, 112, 112, 64)      0         \n",
      "_________________________________________________________________\n",
      "block2_conv1 (Conv2D)        (None, 112, 112, 128)     73856     \n",
      "_________________________________________________________________\n",
      "block2_conv2 (Conv2D)        (None, 112, 112, 128)     147584    \n",
      "_________________________________________________________________\n",
      "block2_pool (MaxPooling2D)   (None, 56, 56, 128)       0         \n",
      "_________________________________________________________________\n",
      "block3_conv1 (Conv2D)        (None, 56, 56, 256)       295168    \n",
      "_________________________________________________________________\n",
      "block3_conv2 (Conv2D)        (None, 56, 56, 256)       590080    \n",
      "_________________________________________________________________\n",
      "block3_conv3 (Conv2D)        (None, 56, 56, 256)       590080    \n",
      "_________________________________________________________________\n",
      "block3_conv4 (Conv2D)        (None, 56, 56, 256)       590080    \n",
      "_________________________________________________________________\n",
      "block3_pool (MaxPooling2D)   (None, 28, 28, 256)       0         \n",
      "_________________________________________________________________\n",
      "block4_conv1 (Conv2D)        (None, 28, 28, 512)       1180160   \n",
      "_________________________________________________________________\n",
      "block4_conv2 (Conv2D)        (None, 28, 28, 512)       2359808   \n",
      "_________________________________________________________________\n",
      "block4_conv3 (Conv2D)        (None, 28, 28, 512)       2359808   \n",
      "_________________________________________________________________\n",
      "block4_conv4 (Conv2D)        (None, 28, 28, 512)       2359808   \n",
      "_________________________________________________________________\n",
      "block4_pool (MaxPooling2D)   (None, 14, 14, 512)       0         \n",
      "_________________________________________________________________\n",
      "block5_conv1 (Conv2D)        (None, 14, 14, 512)       2359808   \n",
      "_________________________________________________________________\n",
      "block5_conv2 (Conv2D)        (None, 14, 14, 512)       2359808   \n",
      "_________________________________________________________________\n",
      "block5_conv3 (Conv2D)        (None, 14, 14, 512)       2359808   \n",
      "_________________________________________________________________\n",
      "block5_conv4 (Conv2D)        (None, 14, 14, 512)       2359808   \n",
      "_________________________________________________________________\n",
      "block5_pool (MaxPooling2D)   (None, 7, 7, 512)         0         \n",
      "_________________________________________________________________\n",
      "flatten (Flatten)            (None, 25088)             0         \n",
      "_________________________________________________________________\n",
      "dense (Dense)                (None, 2)                 50178     \n",
      "=================================================================\n",
      "Total params: 20,074,562\n",
      "Trainable params: 50,178\n",
      "Non-trainable params: 20,024,384\n",
      "_________________________________________________________________\n"
     ]
    }
   ],
   "source": [
    "\n",
    "# view the structure of the model\n",
    "model.summary()\n"
   ]
  },
  {
   "cell_type": "code",
   "execution_count": 12,
   "metadata": {},
   "outputs": [],
   "source": [
    "from tensorflow.keras.layers import MaxPooling2D"
   ]
  },
  {
   "cell_type": "code",
   "execution_count": 13,
   "metadata": {},
   "outputs": [
    {
     "name": "stdout",
     "output_type": "stream",
     "text": [
      "Model: \"sequential\"\n",
      "_________________________________________________________________\n",
      "Layer (type)                 Output Shape              Param #   \n",
      "=================================================================\n",
      "conv2d (Conv2D)              (None, 224, 224, 16)      208       \n",
      "_________________________________________________________________\n",
      "max_pooling2d (MaxPooling2D) (None, 112, 112, 16)      0         \n",
      "_________________________________________________________________\n",
      "conv2d_1 (Conv2D)            (None, 112, 112, 32)      2080      \n",
      "_________________________________________________________________\n",
      "max_pooling2d_1 (MaxPooling2 (None, 56, 56, 32)        0         \n",
      "_________________________________________________________________\n",
      "conv2d_2 (Conv2D)            (None, 56, 56, 64)        8256      \n",
      "_________________________________________________________________\n",
      "max_pooling2d_2 (MaxPooling2 (None, 28, 28, 64)        0         \n",
      "_________________________________________________________________\n",
      "flatten_1 (Flatten)          (None, 50176)             0         \n",
      "_________________________________________________________________\n",
      "dense_1 (Dense)              (None, 500)               25088500  \n",
      "_________________________________________________________________\n",
      "dense_2 (Dense)              (None, 2)                 1002      \n",
      "=================================================================\n",
      "Total params: 25,100,046\n",
      "Trainable params: 25,100,046\n",
      "Non-trainable params: 0\n",
      "_________________________________________________________________\n"
     ]
    }
   ],
   "source": [
    "### Create Model from scratch using CNN\n",
    "model=Sequential()\n",
    "model.add(Conv2D(filters=16,kernel_size=2,padding=\"same\",activation=\"relu\",input_shape=(224,224,3)))\n",
    "model.add(MaxPooling2D(pool_size=2))\n",
    "model.add(Conv2D(filters=32,kernel_size=2,padding=\"same\",activation =\"relu\"))\n",
    "model.add(MaxPooling2D(pool_size=2))\n",
    "model.add(Conv2D(filters=64,kernel_size=2,padding=\"same\",activation=\"relu\"))\n",
    "model.add(MaxPooling2D(pool_size=2))\n",
    "model.add(Flatten())\n",
    "model.add(Dense(500,activation=\"relu\"))\n",
    "model.add(Dense(2,activation=\"softmax\"))\n",
    "model.summary()"
   ]
  },
  {
   "cell_type": "code",
   "execution_count": 14,
   "metadata": {},
   "outputs": [],
   "source": [
    "# tell the model what cost and optimization method to use\n",
    "model.compile(\n",
    "  loss='categorical_crossentropy',\n",
    "  optimizer='adam',\n",
    "  metrics=['accuracy']\n",
    ")\n"
   ]
  },
  {
   "cell_type": "code",
   "execution_count": 15,
   "metadata": {},
   "outputs": [],
   "source": [
    "# Use the Image Data Generator to import the images from the dataset\n",
    "from tensorflow.keras.preprocessing.image import ImageDataGenerator\n",
    "\n",
    "train_datagen = ImageDataGenerator(rescale = 1./255,\n",
    "                                   shear_range = 0.2,\n",
    "                                   zoom_range = 0.2,\n",
    "                                   horizontal_flip = True)\n",
    "\n",
    "test_datagen = ImageDataGenerator(rescale = 1./255)"
   ]
  },
  {
   "cell_type": "code",
   "execution_count": 16,
   "metadata": {},
   "outputs": [
    {
     "name": "stdout",
     "output_type": "stream",
     "text": [
      "Found 416 images belonging to 2 classes.\n"
     ]
    }
   ],
   "source": [
    "# Make sure you provide the same target size as initialied for the image size\n",
    "training_set = train_datagen.flow_from_directory('C:/Anaconda/data/Dataset1/Train',\n",
    "                                                 target_size = (224, 224),\n",
    "                                                 batch_size = 32,\n",
    "                                                 class_mode = 'categorical')"
   ]
  },
  {
   "cell_type": "code",
   "execution_count": 17,
   "metadata": {},
   "outputs": [
    {
     "data": {
      "text/plain": [
       "<tensorflow.python.keras.preprocessing.image.DirectoryIterator at 0x1210000b640>"
      ]
     },
     "execution_count": 17,
     "metadata": {},
     "output_type": "execute_result"
    }
   ],
   "source": [
    "training_set"
   ]
  },
  {
   "cell_type": "code",
   "execution_count": 18,
   "metadata": {},
   "outputs": [
    {
     "name": "stdout",
     "output_type": "stream",
     "text": [
      "Found 134 images belonging to 2 classes.\n"
     ]
    }
   ],
   "source": [
    "test_set = test_datagen.flow_from_directory('C:/Anaconda/data/Dataset1/Test',\n",
    "                                            target_size = (224, 224),\n",
    "                                            batch_size = 32,\n",
    "                                            class_mode = 'categorical')"
   ]
  },
  {
   "cell_type": "code",
   "execution_count": 21,
   "metadata": {
    "scrolled": true
   },
   "outputs": [
    {
     "name": "stdout",
     "output_type": "stream",
     "text": [
      "WARNING:tensorflow:From <ipython-input-21-69229fe26ea3>:3: Model.fit_generator (from tensorflow.python.keras.engine.training) is deprecated and will be removed in a future version.\n",
      "Instructions for updating:\n",
      "Please use Model.fit, which supports generators.\n",
      "Epoch 1/50\n",
      "13/13 [==============================] - 13s 965ms/step - loss: 1.7289 - accuracy: 0.5312 - val_loss: 0.6479 - val_accuracy: 0.6791\n",
      "Epoch 2/50\n",
      "13/13 [==============================] - 12s 961ms/step - loss: 0.7063 - accuracy: 0.5216 - val_loss: 0.6973 - val_accuracy: 0.4478\n",
      "Epoch 3/50\n",
      "13/13 [==============================] - 13s 1s/step - loss: 0.6299 - accuracy: 0.6803 - val_loss: 0.7061 - val_accuracy: 0.4701\n",
      "Epoch 4/50\n",
      "13/13 [==============================] - 13s 1s/step - loss: 0.4914 - accuracy: 0.7620 - val_loss: 1.0399 - val_accuracy: 0.3881\n",
      "Epoch 5/50\n",
      "13/13 [==============================] - 14s 1s/step - loss: 0.4576 - accuracy: 0.7764 - val_loss: 0.7296 - val_accuracy: 0.5597\n",
      "Epoch 6/50\n",
      "13/13 [==============================] - 15s 1s/step - loss: 0.3623 - accuracy: 0.8510 - val_loss: 0.7969 - val_accuracy: 0.5224\n",
      "Epoch 7/50\n",
      "13/13 [==============================] - 15s 1s/step - loss: 0.3405 - accuracy: 0.8486 - val_loss: 0.7020 - val_accuracy: 0.6418\n",
      "Epoch 8/50\n",
      "13/13 [==============================] - 13s 1s/step - loss: 0.3339 - accuracy: 0.8654 - val_loss: 0.4563 - val_accuracy: 0.7910\n",
      "Epoch 9/50\n",
      "13/13 [==============================] - 14s 1s/step - loss: 0.2844 - accuracy: 0.9038 - val_loss: 0.5321 - val_accuracy: 0.7164\n",
      "Epoch 10/50\n",
      "13/13 [==============================] - 14s 1s/step - loss: 0.2364 - accuracy: 0.9135 - val_loss: 0.9018 - val_accuracy: 0.7313\n",
      "Epoch 11/50\n",
      "13/13 [==============================] - 15s 1s/step - loss: 0.2298 - accuracy: 0.9135 - val_loss: 0.3275 - val_accuracy: 0.8582\n",
      "Epoch 12/50\n",
      "13/13 [==============================] - 14s 1s/step - loss: 0.1684 - accuracy: 0.9327 - val_loss: 0.6763 - val_accuracy: 0.7836\n",
      "Epoch 13/50\n",
      "13/13 [==============================] - 17s 1s/step - loss: 0.2104 - accuracy: 0.9351 - val_loss: 0.3392 - val_accuracy: 0.8358\n",
      "Epoch 14/50\n",
      "13/13 [==============================] - 15s 1s/step - loss: 0.1452 - accuracy: 0.9423 - val_loss: 0.3311 - val_accuracy: 0.8582\n",
      "Epoch 15/50\n",
      "13/13 [==============================] - 15s 1s/step - loss: 0.1376 - accuracy: 0.9543 - val_loss: 0.2813 - val_accuracy: 0.8731\n",
      "Epoch 16/50\n",
      "13/13 [==============================] - 15s 1s/step - loss: 0.0901 - accuracy: 0.9784 - val_loss: 0.8013 - val_accuracy: 0.8134\n",
      "Epoch 17/50\n",
      "13/13 [==============================] - 14s 1s/step - loss: 0.0974 - accuracy: 0.9688 - val_loss: 0.3328 - val_accuracy: 0.8731\n",
      "Epoch 18/50\n",
      "13/13 [==============================] - 15s 1s/step - loss: 0.0784 - accuracy: 0.9712 - val_loss: 0.3512 - val_accuracy: 0.8806\n",
      "Epoch 19/50\n",
      "13/13 [==============================] - 14s 1s/step - loss: 0.0906 - accuracy: 0.9688 - val_loss: 0.2603 - val_accuracy: 0.8806\n",
      "Epoch 20/50\n",
      "13/13 [==============================] - 14s 1s/step - loss: 0.0939 - accuracy: 0.9760 - val_loss: 0.3057 - val_accuracy: 0.8806\n",
      "Epoch 21/50\n",
      "13/13 [==============================] - 14s 1s/step - loss: 0.0879 - accuracy: 0.9760 - val_loss: 0.2291 - val_accuracy: 0.9030\n",
      "Epoch 22/50\n",
      "13/13 [==============================] - 14s 1s/step - loss: 0.0521 - accuracy: 0.9808 - val_loss: 0.2076 - val_accuracy: 0.9328\n",
      "Epoch 23/50\n",
      "13/13 [==============================] - 14s 1s/step - loss: 0.0649 - accuracy: 0.9856 - val_loss: 0.5715 - val_accuracy: 0.8209\n",
      "Epoch 24/50\n",
      "13/13 [==============================] - 14s 1s/step - loss: 0.1107 - accuracy: 0.9688 - val_loss: 0.3569 - val_accuracy: 0.8731\n",
      "Epoch 25/50\n",
      "13/13 [==============================] - 15s 1s/step - loss: 0.0881 - accuracy: 0.9808 - val_loss: 0.4812 - val_accuracy: 0.8358\n",
      "Epoch 26/50\n",
      "13/13 [==============================] - 14s 1s/step - loss: 0.0892 - accuracy: 0.9688 - val_loss: 0.2008 - val_accuracy: 0.9030\n",
      "Epoch 27/50\n",
      "13/13 [==============================] - 14s 1s/step - loss: 0.0452 - accuracy: 0.9880 - val_loss: 0.3124 - val_accuracy: 0.9104\n",
      "Epoch 28/50\n",
      "13/13 [==============================] - 13s 1s/step - loss: 0.1001 - accuracy: 0.9712 - val_loss: 0.2672 - val_accuracy: 0.8806\n",
      "Epoch 29/50\n",
      "13/13 [==============================] - 15s 1s/step - loss: 0.0651 - accuracy: 0.9832 - val_loss: 0.2501 - val_accuracy: 0.9030\n",
      "Epoch 30/50\n",
      "13/13 [==============================] - 14s 1s/step - loss: 0.0311 - accuracy: 0.9904 - val_loss: 0.5016 - val_accuracy: 0.8657\n",
      "Epoch 31/50\n",
      "13/13 [==============================] - 14s 1s/step - loss: 0.0767 - accuracy: 0.9784 - val_loss: 0.3782 - val_accuracy: 0.8582\n",
      "Epoch 32/50\n",
      "13/13 [==============================] - 15s 1s/step - loss: 0.1109 - accuracy: 0.9663 - val_loss: 0.2659 - val_accuracy: 0.8955\n",
      "Epoch 33/50\n",
      "13/13 [==============================] - 14s 1s/step - loss: 0.0649 - accuracy: 0.9904 - val_loss: 0.4274 - val_accuracy: 0.8731\n",
      "Epoch 34/50\n",
      "13/13 [==============================] - 15s 1s/step - loss: 0.0695 - accuracy: 0.9760 - val_loss: 0.1229 - val_accuracy: 0.9627\n",
      "Epoch 35/50\n",
      "13/13 [==============================] - 15s 1s/step - loss: 0.0628 - accuracy: 0.9832 - val_loss: 0.3294 - val_accuracy: 0.8955\n",
      "Epoch 36/50\n",
      "13/13 [==============================] - 14s 1s/step - loss: 0.0477 - accuracy: 0.9904 - val_loss: 0.2205 - val_accuracy: 0.9403\n",
      "Epoch 37/50\n",
      "13/13 [==============================] - 14s 1s/step - loss: 0.0950 - accuracy: 0.9760 - val_loss: 0.2376 - val_accuracy: 0.8955\n",
      "Epoch 38/50\n",
      "13/13 [==============================] - 15s 1s/step - loss: 0.0524 - accuracy: 0.9880 - val_loss: 0.1838 - val_accuracy: 0.9254\n",
      "Epoch 39/50\n",
      "13/13 [==============================] - 14s 1s/step - loss: 0.0576 - accuracy: 0.9880 - val_loss: 0.6337 - val_accuracy: 0.8433\n",
      "Epoch 40/50\n",
      "13/13 [==============================] - 14s 1s/step - loss: 0.1381 - accuracy: 0.9591 - val_loss: 0.4201 - val_accuracy: 0.8433\n",
      "Epoch 41/50\n",
      "13/13 [==============================] - 14s 1s/step - loss: 0.1040 - accuracy: 0.9663 - val_loss: 0.2439 - val_accuracy: 0.8881\n",
      "Epoch 42/50\n",
      "13/13 [==============================] - 14s 1s/step - loss: 0.0718 - accuracy: 0.9880 - val_loss: 0.4093 - val_accuracy: 0.8881\n",
      "Epoch 43/50\n",
      "13/13 [==============================] - 14s 1s/step - loss: 0.0689 - accuracy: 0.9832 - val_loss: 0.2265 - val_accuracy: 0.9104\n",
      "Epoch 44/50\n",
      "13/13 [==============================] - 14s 1s/step - loss: 0.0386 - accuracy: 0.9904 - val_loss: 0.3444 - val_accuracy: 0.8955\n",
      "Epoch 45/50\n",
      "13/13 [==============================] - 14s 1s/step - loss: 0.0417 - accuracy: 0.9880 - val_loss: 0.2039 - val_accuracy: 0.9403\n",
      "Epoch 46/50\n",
      "13/13 [==============================] - 13s 1s/step - loss: 0.0277 - accuracy: 0.9976 - val_loss: 0.3151 - val_accuracy: 0.9030\n",
      "Epoch 47/50\n",
      "13/13 [==============================] - 14s 1s/step - loss: 0.0575 - accuracy: 0.9904 - val_loss: 0.4676 - val_accuracy: 0.8955\n",
      "Epoch 48/50\n",
      "13/13 [==============================] - 14s 1s/step - loss: 0.0586 - accuracy: 0.9856 - val_loss: 0.2643 - val_accuracy: 0.9030\n",
      "Epoch 49/50\n",
      "13/13 [==============================] - 14s 1s/step - loss: 0.0319 - accuracy: 0.9952 - val_loss: 0.2846 - val_accuracy: 0.9104\n",
      "Epoch 50/50\n",
      "13/13 [==============================] - 14s 1s/step - loss: 0.0423 - accuracy: 0.9856 - val_loss: 0.4339 - val_accuracy: 0.8806\n"
     ]
    }
   ],
   "source": [
    "# fit the model\n",
    "# Run the cell. It will take some time to execute\n",
    "r = model.fit_generator(\n",
    "  training_set,\n",
    "  validation_data=test_set,\n",
    "  epochs=50,\n",
    "  steps_per_epoch=len(training_set),\n",
    "  validation_steps=len(test_set)\n",
    ")"
   ]
  },
  {
   "cell_type": "code",
   "execution_count": null,
   "metadata": {},
   "outputs": [],
   "source": []
  },
  {
   "cell_type": "code",
   "execution_count": 22,
   "metadata": {},
   "outputs": [
    {
     "data": {
      "image/png": "[encoded data removed]",
      "text/plain": [
       "<Figure size 432x288 with 1 Axes>"
      ]
     },
     "metadata": {
      "needs_background": "light"
     },
     "output_type": "display_data"
    },
    {
     "data": {
      "image/png": "[encoded data removed]",
      "text/plain": [
       "<Figure size 432x288 with 1 Axes>"
      ]
     },
     "metadata": {
      "needs_background": "light"
     },
     "output_type": "display_data"
    },
    {
     "data": {
      "text/plain": [
       "<Figure size 432x288 with 0 Axes>"
      ]
     },
     "metadata": {},
     "output_type": "display_data"
    }
   ],
   "source": [
    "# plot the loss\n",
    "plt.plot(r.history['loss'], label='train loss')\n",
    "plt.plot(r.history['val_loss'], label='val loss')\n",
    "plt.legend()\n",
    "plt.show()\n",
    "plt.savefig('LossVal_loss')\n",
    "\n",
    "# plot the accuracy\n",
    "plt.plot(r.history['accuracy'], label='train acc')\n",
    "plt.plot(r.history['val_accuracy'], label='val acc')\n",
    "plt.legend()\n",
    "plt.show()\n",
    "plt.savefig('AccVal_acc')"
   ]
  },
  {
   "cell_type": "code",
   "execution_count": 23,
   "metadata": {},
   "outputs": [],
   "source": [
    "# save it as a h5 file\n",
    "\n",
    "\n",
    "from tensorflow.keras.models import load_model\n",
    "\n",
    "model.save('model_vgg19.h5')"
   ]
  },
  {
   "cell_type": "code",
   "execution_count": null,
   "metadata": {},
   "outputs": [],
   "source": []
  },
  {
   "cell_type": "code",
   "execution_count": 24,
   "metadata": {},
   "outputs": [],
   "source": [
    "\n",
    "y_pred = model.predict(test_set)\n"
   ]
  },
  {
   "cell_type": "code",
   "execution_count": 25,
   "metadata": {},
   "outputs": [
    {
     "data": {
      "text/plain": [
       "array([[1.00000000e+00, 3.56422376e-08],\n",
       "       [5.78848994e-04, 9.99421120e-01],\n",
       "       [3.18908170e-02, 9.68109190e-01],\n",
       "       [1.00000000e+00, 2.44241628e-12],\n",
       "       [9.98807788e-01, 1.19221257e-03],\n",
       "       [9.99730408e-01, 2.69536191e-04],\n",
       "       [1.00000000e+00, 1.37310883e-08],\n",
       "       [9.99762714e-01, 2.37332788e-04],\n",
       "       [1.00000000e+00, 6.60597811e-20],\n",
       "       [9.99999762e-01, 2.85016171e-07],\n",
       "       [1.00000000e+00, 4.36719855e-10],\n",
       "       [1.00000000e+00, 2.76009450e-18],\n",
       "       [6.73595145e-02, 9.32640493e-01],\n",
       "       [3.13304774e-02, 9.68669474e-01],\n",
       "       [6.86897023e-04, 9.99313116e-01],\n",
       "       [7.07084779e-04, 9.99292850e-01],\n",
       "       [3.21570644e-03, 9.96784329e-01],\n",
       "       [9.99999762e-01, 2.39877465e-07],\n",
       "       [3.69862258e-03, 9.96301413e-01],\n",
       "       [9.99994636e-01, 5.31059368e-06],\n",
       "       [7.37761892e-03, 9.92622375e-01],\n",
       "       [7.43608549e-02, 9.25639212e-01],\n",
       "       [4.26819548e-04, 9.99573171e-01],\n",
       "       [2.63918913e-03, 9.97360766e-01],\n",
       "       [1.89410546e-03, 9.98105884e-01],\n",
       "       [1.00000000e+00, 4.78976803e-16],\n",
       "       [1.98852830e-03, 9.98011470e-01],\n",
       "       [1.00000000e+00, 1.11695035e-10],\n",
       "       [2.17694789e-03, 9.97823119e-01],\n",
       "       [1.00000000e+00, 4.86692358e-08],\n",
       "       [1.22757349e-03, 9.98772442e-01],\n",
       "       [1.24594045e-03, 9.98754025e-01],\n",
       "       [1.34209292e-02, 9.86579120e-01],\n",
       "       [1.00000000e+00, 8.76717284e-27],\n",
       "       [9.49246466e-01, 5.07534668e-02],\n",
       "       [1.87360309e-03, 9.98126447e-01],\n",
       "       [4.36025532e-03, 9.95639682e-01],\n",
       "       [9.10646934e-03, 9.90893483e-01],\n",
       "       [1.00827832e-02, 9.89917219e-01],\n",
       "       [9.99966860e-01, 3.31018746e-05],\n",
       "       [3.54231475e-03, 9.96457636e-01],\n",
       "       [5.20707248e-03, 9.94792879e-01],\n",
       "       [9.81985009e-04, 9.99017954e-01],\n",
       "       [2.28872010e-03, 9.97711301e-01],\n",
       "       [1.00000000e+00, 5.47761836e-11],\n",
       "       [9.99994397e-01, 5.64435823e-06],\n",
       "       [1.00000000e+00, 2.29629760e-09],\n",
       "       [9.99882340e-01, 1.17683761e-04],\n",
       "       [1.00000000e+00, 6.83761403e-09],\n",
       "       [6.90141553e-03, 9.93098557e-01],\n",
       "       [1.00000000e+00, 1.13053167e-08],\n",
       "       [1.54958060e-03, 9.98450398e-01],\n",
       "       [1.00000000e+00, 4.31704805e-08],\n",
       "       [1.73232146e-02, 9.82676804e-01],\n",
       "       [9.99990106e-01, 9.83796235e-06],\n",
       "       [3.95048084e-03, 9.96049583e-01],\n",
       "       [2.85537075e-02, 9.71446335e-01],\n",
       "       [1.00000000e+00, 5.42528440e-08],\n",
       "       [1.42408922e-01, 8.57591093e-01],\n",
       "       [7.27334700e-04, 9.99272645e-01],\n",
       "       [4.82399063e-03, 9.95175958e-01],\n",
       "       [1.00000000e+00, 4.91616632e-08],\n",
       "       [3.00526596e-03, 9.96994734e-01],\n",
       "       [8.17253627e-03, 9.91827488e-01],\n",
       "       [9.98754859e-01, 1.24509586e-03],\n",
       "       [9.99950171e-01, 4.98471272e-05],\n",
       "       [4.01509786e-03, 9.95984912e-01],\n",
       "       [9.99955297e-01, 4.46858030e-05],\n",
       "       [7.99561322e-01, 2.00438678e-01],\n",
       "       [9.99999881e-01, 1.14778359e-07],\n",
       "       [9.99992371e-01, 7.60686089e-06],\n",
       "       [5.82553586e-03, 9.94174540e-01],\n",
       "       [9.99989510e-01, 1.04780347e-05],\n",
       "       [3.76974838e-03, 9.96230185e-01],\n",
       "       [1.69489684e-03, 9.98305082e-01],\n",
       "       [9.99020696e-01, 9.79254488e-04],\n",
       "       [9.99999881e-01, 1.01653860e-07],\n",
       "       [7.71468759e-01, 2.28531241e-01],\n",
       "       [9.99993801e-01, 6.15673798e-06],\n",
       "       [1.00000000e+00, 2.04204265e-16],\n",
       "       [4.20525204e-03, 9.95794773e-01],\n",
       "       [6.39748573e-03, 9.93602455e-01],\n",
       "       [9.99987483e-01, 1.25652014e-05],\n",
       "       [9.99999881e-01, 1.06981929e-07],\n",
       "       [1.00000000e+00, 8.26808221e-25],\n",
       "       [1.00000000e+00, 4.07786987e-15],\n",
       "       [8.01475942e-01, 1.98523998e-01],\n",
       "       [9.99838352e-01, 1.61667995e-04],\n",
       "       [9.99996781e-01, 3.26604845e-06],\n",
       "       [9.99899745e-01, 1.00190598e-04],\n",
       "       [3.62977147e-01, 6.37022913e-01],\n",
       "       [1.00000000e+00, 3.12101216e-14],\n",
       "       [9.99998808e-01, 1.14547561e-06],\n",
       "       [1.00000000e+00, 1.00425073e-08],\n",
       "       [9.99952555e-01, 4.74709959e-05],\n",
       "       [9.82867837e-01, 1.71320960e-02],\n",
       "       [6.88666943e-03, 9.93113339e-01],\n",
       "       [1.27260992e-03, 9.98727381e-01],\n",
       "       [9.99144912e-01, 8.55067512e-04],\n",
       "       [9.99998927e-01, 1.08704955e-06],\n",
       "       [6.71155285e-04, 9.99328852e-01],\n",
       "       [1.00000000e+00, 3.36476127e-13],\n",
       "       [5.09972405e-03, 9.94900286e-01],\n",
       "       [1.08432444e-03, 9.98915672e-01],\n",
       "       [9.73766521e-02, 9.02623355e-01],\n",
       "       [1.00000000e+00, 6.24548191e-10],\n",
       "       [9.99999881e-01, 8.43513632e-08],\n",
       "       [1.00000000e+00, 3.58719876e-09],\n",
       "       [9.99973416e-01, 2.66339175e-05],\n",
       "       [9.99942541e-01, 5.74705118e-05],\n",
       "       [1.37146609e-02, 9.86285329e-01],\n",
       "       [2.05160165e-03, 9.97948468e-01],\n",
       "       [1.00000000e+00, 1.15282353e-18],\n",
       "       [1.37160411e-02, 9.86283898e-01],\n",
       "       [2.94852089e-02, 9.70514834e-01],\n",
       "       [5.18841267e-01, 4.81158763e-01],\n",
       "       [9.99995232e-01, 4.81864299e-06],\n",
       "       [1.00000000e+00, 3.97308681e-15],\n",
       "       [1.00000000e+00, 6.48111076e-09],\n",
       "       [1.00000000e+00, 5.29997912e-09],\n",
       "       [1.45623023e-02, 9.85437632e-01],\n",
       "       [9.99281943e-01, 7.18070834e-04],\n",
       "       [9.99549806e-01, 4.50148189e-04],\n",
       "       [9.50371400e-02, 9.04962838e-01],\n",
       "       [9.99984145e-01, 1.58695257e-05],\n",
       "       [4.82180296e-03, 9.95178223e-01],\n",
       "       [9.99923825e-01, 7.61983320e-05],\n",
       "       [1.00000000e+00, 2.09562451e-10],\n",
       "       [2.88583666e-01, 7.11416304e-01],\n",
       "       [1.79006048e-02, 9.82099414e-01],\n",
       "       [8.75393860e-04, 9.99124587e-01],\n",
       "       [9.99999285e-01, 6.81247855e-07],\n",
       "       [9.99774158e-01, 2.25906057e-04],\n",
       "       [1.00000000e+00, 1.20530315e-08]], dtype=float32)"
      ]
     },
     "execution_count": 25,
     "metadata": {},
     "output_type": "execute_result"
    }
   ],
   "source": [
    "y_pred"
   ]
  },
  {
   "cell_type": "code",
   "execution_count": 26,
   "metadata": {},
   "outputs": [],
   "source": [
    "import numpy as np\n",
    "y_pred = np.argmax(y_pred, axis=1)"
   ]
  },
  {
   "cell_type": "code",
   "execution_count": 27,
   "metadata": {},
   "outputs": [
    {
     "data": {
      "text/plain": [
       "array([0, 1, 1, 0, 0, 0, 0, 0, 0, 0, 0, 0, 1, 1, 1, 1, 1, 0, 1, 0, 1, 1,\n",
       "       1, 1, 1, 0, 1, 0, 1, 0, 1, 1, 1, 0, 0, 1, 1, 1, 1, 0, 1, 1, 1, 1,\n",
       "       0, 0, 0, 0, 0, 1, 0, 1, 0, 1, 0, 1, 1, 0, 1, 1, 1, 0, 1, 1, 0, 0,\n",
       "       1, 0, 0, 0, 0, 1, 0, 1, 1, 0, 0, 0, 0, 0, 1, 1, 0, 0, 0, 0, 0, 0,\n",
       "       0, 0, 1, 0, 0, 0, 0, 0, 1, 1, 0, 0, 1, 0, 1, 1, 1, 0, 0, 0, 0, 0,\n",
       "       1, 1, 0, 1, 1, 0, 0, 0, 0, 0, 1, 0, 0, 1, 0, 1, 0, 0, 1, 1, 1, 0,\n",
       "       0, 0], dtype=int64)"
      ]
     },
     "execution_count": 27,
     "metadata": {},
     "output_type": "execute_result"
    }
   ],
   "source": [
    "y_pred"
   ]
  },
  {
   "cell_type": "code",
   "execution_count": null,
   "metadata": {},
   "outputs": [],
   "source": []
  },
  {
   "cell_type": "code",
   "execution_count": 28,
   "metadata": {},
   "outputs": [],
   "source": [
    "from tensorflow.keras.models import load_model\n",
    "from tensorflow.keras.preprocessing import image"
   ]
  },
  {
   "cell_type": "code",
   "execution_count": 29,
   "metadata": {},
   "outputs": [],
   "source": [
    "model=load_model('model_vgg19.h5')"
   ]
  },
  {
   "cell_type": "code",
   "execution_count": null,
   "metadata": {},
   "outputs": [],
   "source": []
  },
  {
   "cell_type": "code",
   "execution_count": 30,
   "metadata": {},
   "outputs": [],
   "source": [
    "img=image.load_img('C:/Anaconda/data/Dataset1/Test/Uninfected/2.png',target_size=(224,224))\n",
    "\n"
   ]
  },
  {
   "cell_type": "code",
   "execution_count": 33,
   "metadata": {},
   "outputs": [
    {
     "data": {
      "text/plain": [
       "array([[[0., 0., 0.],\n",
       "        [0., 0., 0.],\n",
       "        [0., 0., 0.],\n",
       "        ...,\n",
       "        [0., 0., 0.],\n",
       "        [0., 0., 0.],\n",
       "        [0., 0., 0.]],\n",
       "\n",
       "       [[0., 0., 0.],\n",
       "        [0., 0., 0.],\n",
       "        [0., 0., 0.],\n",
       "        ...,\n",
       "        [0., 0., 0.],\n",
       "        [0., 0., 0.],\n",
       "        [0., 0., 0.]],\n",
       "\n",
       "       [[0., 0., 0.],\n",
       "        [0., 0., 0.],\n",
       "        [0., 0., 0.],\n",
       "        ...,\n",
       "        [0., 0., 0.],\n",
       "        [0., 0., 0.],\n",
       "        [0., 0., 0.]],\n",
       "\n",
       "       ...,\n",
       "\n",
       "       [[0., 0., 0.],\n",
       "        [0., 0., 0.],\n",
       "        [0., 0., 0.],\n",
       "        ...,\n",
       "        [0., 0., 0.],\n",
       "        [0., 0., 0.],\n",
       "        [0., 0., 0.]],\n",
       "\n",
       "       [[0., 0., 0.],\n",
       "        [0., 0., 0.],\n",
       "        [0., 0., 0.],\n",
       "        ...,\n",
       "        [0., 0., 0.],\n",
       "        [0., 0., 0.],\n",
       "        [0., 0., 0.]],\n",
       "\n",
       "       [[0., 0., 0.],\n",
       "        [0., 0., 0.],\n",
       "        [0., 0., 0.],\n",
       "        ...,\n",
       "        [0., 0., 0.],\n",
       "        [0., 0., 0.],\n",
       "        [0., 0., 0.]]], dtype=float32)"
      ]
     },
     "execution_count": 33,
     "metadata": {},
     "output_type": "execute_result"
    }
   ],
   "source": [
    "x=image.img_to_array(img)\n",
    "x"
   ]
  },
  {
   "cell_type": "code",
   "execution_count": 34,
   "metadata": {},
   "outputs": [
    {
     "data": {
      "text/plain": [
       "(224, 224, 3)"
      ]
     },
     "execution_count": 34,
     "metadata": {},
     "output_type": "execute_result"
    }
   ],
   "source": [
    "x.shape"
   ]
  },
  {
   "cell_type": "code",
   "execution_count": 35,
   "metadata": {},
   "outputs": [],
   "source": [
    "x=x/255"
   ]
  },
  {
   "cell_type": "code",
   "execution_count": 36,
   "metadata": {},
   "outputs": [
    {
     "data": {
      "text/plain": [
       "(1, 224, 224, 3)"
      ]
     },
     "execution_count": 36,
     "metadata": {},
     "output_type": "execute_result"
    }
   ],
   "source": [
    "x=np.expand_dims(x,axis=0)\n",
    "img_data=preprocess_input(x)\n",
    "img_data.shape"
   ]
  },
  {
   "cell_type": "code",
   "execution_count": 37,
   "metadata": {},
   "outputs": [
    {
     "data": {
      "text/plain": [
       "array([[0., 1.]], dtype=float32)"
      ]
     },
     "execution_count": 37,
     "metadata": {},
     "output_type": "execute_result"
    }
   ],
   "source": [
    "model.predict(img_data)"
   ]
  },
  {
   "cell_type": "code",
   "execution_count": 38,
   "metadata": {},
   "outputs": [],
   "source": [
    "a=np.argmax(model.predict(img_data), axis=1)"
   ]
  },
  {
   "cell_type": "code",
   "execution_count": 42,
   "metadata": {},
   "outputs": [
    {
     "name": "stdout",
     "output_type": "stream",
     "text": [
      "Uninfected\n"
     ]
    }
   ],
   "source": [
    "if(a==1):\n",
    "    print(\"Uninfected\")\n",
    "else:\n",
    "    print(\"Infected\")"
   ]
  },
  {
   "cell_type": "code",
   "execution_count": null,
   "metadata": {},
   "outputs": [],
   "source": []
  },
  {
   "cell_type": "code",
   "execution_count": null,
   "metadata": {},
   "outputs": [],
   "source": []
  }
 ],
 "metadata": {
  "kernelspec": {
   "display_name": "Python 3",
   "language": "python",
   "name": "python3"
  },
  "language_info": {
   "codemirror_mode": {
    "name": "ipython",
    "version": 3
   },
   "file_extension": ".py",
   "mimetype": "text/x-python",
   "name": "python",
   "nbconvert_exporter": "python",
   "pygments_lexer": "ipython3",
   "version": "3.8.3"
  }
 },
 "nbformat": 4,
 "nbformat_minor": 2
}
